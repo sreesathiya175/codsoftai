{
  "nbformat": 4,
  "nbformat_minor": 0,
  "metadata": {
    "colab": {
      "provenance": [],
      "authorship_tag": "ABX9TyPGvGYllTt7sDZ6kTon+3se",
      "include_colab_link": true
    },
    "kernelspec": {
      "name": "python3",
      "display_name": "Python 3"
    },
    "language_info": {
      "name": "python"
    }
  },
  "cells": [
    {
      "cell_type": "markdown",
      "metadata": {
        "id": "view-in-github",
        "colab_type": "text"
      },
      "source": [
        "<a href=\"https://colab.research.google.com/github/sreesathiya175/codsoftai/blob/main/imgclassification.ipynb\" target=\"_parent\"><img src=\"https://colab.research.google.com/assets/colab-badge.svg\" alt=\"Open In Colab\"/></a>"
      ]
    },
    {
      "cell_type": "code",
      "source": [
        "from PIL import Image, ImageFilter\n",
        "import os\n",
        "\n",
        "def load_image(image_path):\n",
        "    try:\n",
        "        image = Image.open(image_path)\n",
        "        return image\n",
        "    except IOError:\n",
        "        print(\"Unable to load image\")\n",
        "        return None\n",
        "\n",
        "def apply_blur(image):\n",
        "    return image.filter(ImageFilter.BLUR)\n",
        "\n",
        "def apply_contour(image):\n",
        "    return image.filter(ImageFilter.CONTOUR)\n",
        "\n",
        "def apply_detail(image):\n",
        "    return image.filter(ImageFilter.DETAIL)\n",
        "\n",
        "def apply_edge_enhance(image):\n",
        "    return image.filter(ImageFilter.EDGE_ENHANCE)\n",
        "\n",
        "# filtered image\n",
        "def save_image(image, output_path):\n",
        "    try:\n",
        "        image.save(output_path)\n",
        "        print(f\"Image saved as {output_path}\")\n",
        "    except IOError:\n",
        "        print(\"Unable to save image\")\n",
        "\n",
        "\n",
        "def main():\n",
        "    # Define the paths\n",
        "    input_image_path = \"coconut.jpg\"  # Path to the input image\n",
        "    output_directory = \"output_images\"\n",
        "\n",
        "    # Create output directory if it doesn't exist\n",
        "    if not os.path.exists(output_directory):\n",
        "        os.makedirs(output_directory)\n",
        "\n",
        "\n",
        "    image = load_image(input_image_path)\n",
        "    if image is None:\n",
        "        return\n",
        "\n",
        "\n",
        "    filters = {\n",
        "        \"blur\": apply_blur,\n",
        "        \"contour\": apply_contour,\n",
        "        \"detail\": apply_detail,\n",
        "        \"edge_enhance\": apply_edge_enhance\n",
        "    }\n",
        "\n",
        "    for filter_name, filter_func in filters.items():\n",
        "        filtered_image = filter_func(image)\n",
        "        output_path = os.path.join(output_directory, f\"{filter_name}.jpg\")\n",
        "        save_image(filtered_image, output_path)\n",
        "\n",
        "if __name__ == \"__main__\":\n",
        "    main()\n"
      ],
      "metadata": {
        "colab": {
          "base_uri": "https://localhost:8080/"
        },
        "id": "XdSTDupDYJXB",
        "outputId": "119ef445-fb5b-41cb-a4d0-62bbc44a2ba1"
      },
      "execution_count": null,
      "outputs": [
        {
          "output_type": "stream",
          "name": "stdout",
          "text": [
            "Image saved as output_images/blur.jpg\n",
            "Image saved as output_images/contour.jpg\n",
            "Image saved as output_images/detail.jpg\n",
            "Image saved as output_images/edge_enhance.jpg\n"
          ]
        }
      ]
    }
  ]
}